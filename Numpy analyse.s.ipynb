{
 "cells": [
  {
   "cell_type": "code",
   "execution_count": 12,
   "id": "0d5f1565",
   "metadata": {},
   "outputs": [],
   "source": [
    "import numpy as np"
   ]
  },
  {
   "cell_type": "code",
   "execution_count": 19,
   "id": "3120e618",
   "metadata": {},
   "outputs": [],
   "source": [
    "#load Data \n",
    "taxi = np.genfromtxt('nyc_taxis.csv',delimiter=',',skip_header=True)"
   ]
  },
  {
   "cell_type": "code",
   "execution_count": 26,
   "id": "84275c95",
   "metadata": {},
   "outputs": [
    {
     "name": "stdout",
     "output_type": "stream",
     "text": [
      "[[2.016e+03 1.000e+00 1.000e+00 5.000e+00 0.000e+00 2.000e+00 4.000e+00\n",
      "  2.100e+01 2.037e+03 5.200e+01 8.000e-01 5.540e+00 1.165e+01 6.999e+01\n",
      "  1.000e+00]]\n"
     ]
    }
   ],
   "source": [
    "print(taxi[:1])"
   ]
  },
  {
   "cell_type": "code",
   "execution_count": 33,
   "id": "c1b9a344",
   "metadata": {},
   "outputs": [
    {
     "name": "stdout",
     "output_type": "stream",
     "text": [
      "class:  ndarray\n",
      "shape:  (89560, 15)\n",
      "strides:  (120, 8)\n",
      "itemsize:  8\n",
      "aligned:  True\n",
      "contiguous:  True\n",
      "fortran:  False\n",
      "data pointer: 0x1d050e91040\n",
      "byteorder:  little\n",
      "byteswap:  False\n",
      "type: float64\n",
      "None\n",
      "(89560, 15)\n"
     ]
    }
   ],
   "source": [
    "print(np.info(taxi))\n",
    "print(np.shape(taxi))"
   ]
  },
  {
   "cell_type": "code",
   "execution_count": 34,
   "id": "388146d5",
   "metadata": {},
   "outputs": [
    {
     "name": "stdout",
     "output_type": "stream",
     "text": [
      "[[2.016e+03 1.000e+00 1.000e+00 5.000e+00 0.000e+00 2.000e+00 4.000e+00\n",
      "  2.100e+01 2.037e+03 5.200e+01 8.000e-01 5.540e+00 1.165e+01 6.999e+01\n",
      "  1.000e+00]]\n"
     ]
    }
   ],
   "source": [
    "print(taxi[:1])"
   ]
  },
  {
   "cell_type": "code",
   "execution_count": 41,
   "id": "48c7a360",
   "metadata": {},
   "outputs": [],
   "source": [
    "#Mean Speed of all data\n",
    "speed_taxi = taxi[:,7]/(taxi[:,8]/3600)"
   ]
  },
  {
   "cell_type": "code",
   "execution_count": 42,
   "id": "31e38efd",
   "metadata": {},
   "outputs": [
    {
     "name": "stdout",
     "output_type": "stream",
     "text": [
      "32.24258580925573\n"
     ]
    }
   ],
   "source": [
    "print (speed_taxi.mean())"
   ]
  },
  {
   "cell_type": "code",
   "execution_count": 46,
   "id": "efad74fa",
   "metadata": {},
   "outputs": [],
   "source": [
    "# Tatal ride in feburary month\n",
    "Feb=taxi[taxi[:,1]==2,1]"
   ]
  },
  {
   "cell_type": "code",
   "execution_count": 47,
   "id": "168c3b8d",
   "metadata": {},
   "outputs": [
    {
     "data": {
      "text/plain": [
       "13333"
      ]
     },
     "execution_count": 47,
     "metadata": {},
     "output_type": "execute_result"
    }
   ],
   "source": [
    "Feb.shape[0]"
   ]
  },
  {
   "cell_type": "code",
   "execution_count": 49,
   "id": "d9d08ced",
   "metadata": {},
   "outputs": [
    {
     "data": {
      "text/plain": [
       "16"
      ]
     },
     "execution_count": 49,
     "metadata": {},
     "output_type": "execute_result"
    }
   ],
   "source": [
    "#where tip is more than Rs50\n",
    "tip=taxi[taxi[:,12]>50,12]\n",
    "tip.shape[0]"
   ]
  },
  {
   "cell_type": "code",
   "execution_count": 51,
   "id": "40a94e2d",
   "metadata": {},
   "outputs": [
    {
     "data": {
      "text/plain": [
       "11832"
      ]
     },
     "execution_count": 51,
     "metadata": {},
     "output_type": "execute_result"
    }
   ],
   "source": [
    "#where the drop is 2\n",
    "drop_loc=taxi[taxi[:,6]==2,6]\n",
    "drop_loc.shape[0]"
   ]
  },
  {
   "cell_type": "code",
   "execution_count": null,
   "id": "18fe0834",
   "metadata": {},
   "outputs": [],
   "source": []
  }
 ],
 "metadata": {
  "kernelspec": {
   "display_name": "Python 3 (ipykernel)",
   "language": "python",
   "name": "python3"
  },
  "language_info": {
   "codemirror_mode": {
    "name": "ipython",
    "version": 3
   },
   "file_extension": ".py",
   "mimetype": "text/x-python",
   "name": "python",
   "nbconvert_exporter": "python",
   "pygments_lexer": "ipython3",
   "version": "3.10.5"
  }
 },
 "nbformat": 4,
 "nbformat_minor": 5
}
