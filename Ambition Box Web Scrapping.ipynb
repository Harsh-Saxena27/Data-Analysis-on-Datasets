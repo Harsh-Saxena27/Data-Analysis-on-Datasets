{
 "cells": [
  {
   "cell_type": "code",
   "execution_count": null,
   "id": "4b82a879",
   "metadata": {},
   "outputs": [],
   "source": [
    "import pandas as pd\n",
    "import requests\n",
    "import numpy as np"
   ]
  },
  {
   "cell_type": "code",
   "execution_count": null,
   "id": "21a89d63",
   "metadata": {},
   "outputs": [],
   "source": [
    "pip install bs4\n"
   ]
  },
  {
   "cell_type": "code",
   "execution_count": null,
   "id": "2db5d342",
   "metadata": {},
   "outputs": [],
   "source": [
    "from bs4 import BeautifulSoup "
   ]
  },
  {
   "cell_type": "code",
   "execution_count": null,
   "id": "b85b6175",
   "metadata": {},
   "outputs": [],
   "source": [
    "url=\"https://www.ambitionbox.com/list-of-companies?campaign=desktop_nav&page=1\"\n",
    "webpage = requests.get(url)"
   ]
  },
  {
   "cell_type": "code",
   "execution_count": null,
   "id": "f358f033",
   "metadata": {},
   "outputs": [],
   "source": [
    "webpage"
   ]
  },
  {
   "cell_type": "code",
   "execution_count": null,
   "id": "3c94440e",
   "metadata": {},
   "outputs": [],
   "source": [
    "headers={'User-Agent':'Mozilla/5.0 (Windows NT 6.3; Win 64 ; x64) Apple WeKit /537.36(KHTML , like Gecko) Chrome/80.0.3987.162 Safari/537.36'}"
   ]
  },
  {
   "cell_type": "code",
   "execution_count": null,
   "id": "fd405e07",
   "metadata": {},
   "outputs": [],
   "source": [
    "webpage = requests.get(url,headers=headers)"
   ]
  },
  {
   "cell_type": "code",
   "execution_count": null,
   "id": "c32de708",
   "metadata": {},
   "outputs": [],
   "source": [
    "webpage.status_code"
   ]
  },
  {
   "cell_type": "code",
   "execution_count": null,
   "id": "2d18130e",
   "metadata": {},
   "outputs": [],
   "source": []
  },
  {
   "cell_type": "code",
   "execution_count": null,
   "id": "17e31eb4",
   "metadata": {},
   "outputs": [],
   "source": [
    "webpage = requests.get(\"https://www.ambitionbox.com/list-of-companies?campaign=desktop_nav&page=1\",headers=headers).text"
   ]
  },
  {
   "cell_type": "code",
   "execution_count": null,
   "id": "0de60e71",
   "metadata": {},
   "outputs": [],
   "source": [
    "webpage.status_code"
   ]
  },
  {
   "cell_type": "code",
   "execution_count": null,
   "id": "7b60be6e",
   "metadata": {},
   "outputs": [],
   "source": [
    "webpage"
   ]
  },
  {
   "cell_type": "code",
   "execution_count": null,
   "id": "d47d8c61",
   "metadata": {},
   "outputs": [],
   "source": [
    "soup = BeautifulSoup(webpage,'html.parser')"
   ]
  },
  {
   "cell_type": "code",
   "execution_count": null,
   "id": "221b9e5d",
   "metadata": {},
   "outputs": [],
   "source": [
    "print(soup.prettify())"
   ]
  },
  {
   "cell_type": "code",
   "execution_count": null,
   "id": "d920db82",
   "metadata": {},
   "outputs": [],
   "source": [
    "# The Company names are in the h2 we can checkout these all throught the indexing using [0]...[nth] so we'll use loop for fetch all the companies names form the HTML content\n",
    "\n",
    "for i in soup.find_all('h2'):\n",
    "    print (i.text.strip())\n",
    "    "
   ]
  },
  {
   "cell_type": "code",
   "execution_count": null,
   "id": "23bae68e",
   "metadata": {},
   "outputs": [],
   "source": [
    "len(soup.find_all('h2'))"
   ]
  },
  {
   "cell_type": "code",
   "execution_count": null,
   "id": "7b35c678",
   "metadata": {},
   "outputs": [],
   "source": [
    "soup.find_all('div',class_=\"company-content\")[0].text.strip()\n"
   ]
  },
  {
   "cell_type": "code",
   "execution_count": null,
   "id": "2b970fb6",
   "metadata": {},
   "outputs": [],
   "source": [
    "soup.find_all('p',class_='badge-large')[1].text.strip()"
   ]
  },
  {
   "cell_type": "code",
   "execution_count": null,
   "id": "2a9445b4",
   "metadata": {},
   "outputs": [],
   "source": [
    "rating=[]\n",
    "\n",
    "for i in soup.find_all('p',class_=\"rating\"):\n",
    "    rating.append(i.text.strip())"
   ]
  },
  {
   "cell_type": "code",
   "execution_count": null,
   "id": "0f2b832c",
   "metadata": {},
   "outputs": [],
   "source": [
    "len(rating)"
   ]
  },
  {
   "cell_type": "code",
   "execution_count": null,
   "id": "bd8cbf81",
   "metadata": {},
   "outputs": [],
   "source": [
    "companybasic = soup.find_all('div', class_=\"company-basic-info\")"
   ]
  },
  {
   "cell_type": "code",
   "execution_count": null,
   "id": "ffa0b8be",
   "metadata": {},
   "outputs": [],
   "source": [
    "companybasic"
   ]
  },
  {
   "cell_type": "code",
   "execution_count": null,
   "id": "91b3b222",
   "metadata": {},
   "outputs": [],
   "source": [
    "per=soup.find_all('p',class_=\"infoEntity sbold-list-header\")[2].text.strip()"
   ]
  },
  {
   "cell_type": "code",
   "execution_count": null,
   "id": "9c32aa7d",
   "metadata": {},
   "outputs": [],
   "source": [
    "per"
   ]
  },
  {
   "cell_type": "code",
   "execution_count": null,
   "id": "9611481c",
   "metadata": {},
   "outputs": [],
   "source": [
    "container=soup.find_all('div',class_=\"company-content-wrapper\")"
   ]
  },
  {
   "cell_type": "code",
   "execution_count": null,
   "id": "f6e2592a",
   "metadata": {},
   "outputs": [],
   "source": [
    "len(container)"
   ]
  },
  {
   "cell_type": "code",
   "execution_count": null,
   "id": "e2b62c80",
   "metadata": {},
   "outputs": [],
   "source": [
    "# Here we'll create the empty list to store the values\n",
    "name=[]\n",
    "reviews=[]\n",
    "noe=[]\n",
    "\n",
    "for i in container:\n",
    "    name.append(i.find('h2').text.strip())\n",
    "    #rating.append(i.find_all('p',class_=\"rating badge-large rating-35\"))\n",
    "    reviews.append(i.find('a',class_='review-count sbold-Labels').text.strip())\n",
    "    noe.append(i.find_all('p',class_=\"infoEntity sbold-list-header\")[3].text.strip())\n",
    "    \n",
    "df=pd.DataFrame({'name':name,\n",
    "   'rating':rating,\n",
    "   'reviews':reviews,\n",
    "   'No_of_Employee':noe,\n",
    "   })\n",
    "  \n",
    "\n"
   ]
  },
  {
   "cell_type": "code",
   "execution_count": null,
   "id": "8a3a19ab",
   "metadata": {},
   "outputs": [],
   "source": [
    "df"
   ]
  },
  {
   "cell_type": "code",
   "execution_count": null,
   "id": "cd02752e",
   "metadata": {},
   "outputs": [],
   "source": []
  }
 ],
 "metadata": {
  "kernelspec": {
   "display_name": "Python 3 (ipykernel)",
   "language": "python",
   "name": "python3"
  },
  "language_info": {
   "codemirror_mode": {
    "name": "ipython",
    "version": 3
   },
   "file_extension": ".py",
   "mimetype": "text/x-python",
   "name": "python",
   "nbconvert_exporter": "python",
   "pygments_lexer": "ipython3",
   "version": "3.10.5"
  }
 },
 "nbformat": 4,
 "nbformat_minor": 5
}
